{
 "cells": [
  {
   "cell_type": "code",
   "execution_count": null,
   "id": "c7281629",
   "metadata": {},
   "outputs": [],
   "source": [
    "pip install mlxtend"
   ]
  },
  {
   "cell_type": "code",
   "execution_count": null,
   "id": "9ceff189",
   "metadata": {},
   "outputs": [],
   "source": [
    "from mlxtend.plotting import plot_decision_regions\n",
    "import numpy as np\n",
    "import pandas as pd\n",
    "import matplotlib.pyplot as plt\n",
    "import seaborn as sns\n",
    "sns.set\n",
    "import warnings\n",
    "warnings.filterwarnings('ignore')\n",
    "%matplotlib inline"
   ]
  },
  {
   "cell_type": "code",
   "execution_count": null,
   "id": "b1d3fe69",
   "metadata": {},
   "outputs": [],
   "source": [
    "diabetes_data = pd.read_csv(\"E:\\DSspec\\Diabetes_classification\\diabetes.csv\")"
   ]
  },
  {
   "cell_type": "code",
   "execution_count": null,
   "id": "b2316920",
   "metadata": {},
   "outputs": [],
   "source": [
    "diabetes_data.head()"
   ]
  },
  {
   "cell_type": "code",
   "execution_count": null,
   "id": "37b5054a",
   "metadata": {},
   "outputs": [],
   "source": [
    "diabetes_data.info(verbose = True)"
   ]
  },
  {
   "cell_type": "code",
   "execution_count": null,
   "id": "7cfaff72",
   "metadata": {},
   "outputs": [],
   "source": [
    "diabetes_data.describe()"
   ]
  },
  {
   "cell_type": "code",
   "execution_count": null,
   "id": "04ca3110",
   "metadata": {},
   "outputs": [],
   "source": [
    "diabetes_data.describe().T"
   ]
  },
  {
   "cell_type": "code",
   "execution_count": null,
   "id": "89f8b471",
   "metadata": {},
   "outputs": [],
   "source": [
    "diabetes_data_copy = diabetes_data.copy(deep =True)\n",
    "diabetes_data_copy[['Glucose','BloodPressure','SkinThickness','Insulin','BMI']]= diabetes_data_copy[['Glucose','BloodPressure','SkinThickness','Insulin','BMI']]\n",
    "\n",
    "print(diabetes_data_copy.isnull().sum())"
   ]
  },
  {
   "cell_type": "code",
   "execution_count": null,
   "id": "58c81d6b",
   "metadata": {},
   "outputs": [],
   "source": [
    "p = diabetes_data.hist(figsize = (20,20))"
   ]
  },
  {
   "cell_type": "code",
   "execution_count": null,
   "id": "ef275db0",
   "metadata": {},
   "outputs": [],
   "source": [
    "diabetes_data_copy['Glucose',fillna(diabetes_data_copy['Glucose'].mean(), inplace=True)]\n",
    "diabetes_data_copy['BloodPressure',fillna(diabetes_data_copy['BloodPressure'].mean(), inplace=True)]\n",
    "diabetes_data_copy['SkinThickness',fillna(diabetes_data_copy)['SkinThickness'].mean(), inplace=True]\n",
    "diabetes_data_copy['Insulin',fillna(diabetes_data_copy)['Insulin'].mean(), inplace=True]\n",
    "diabetes_data_copy['BMI',fillna(diabetes_data_copy)['BMI'].mean(), inplace=True]"
   ]
  },
  {
   "cell_type": "code",
   "execution_count": null,
   "id": "c6c14b00",
   "metadata": {},
   "outputs": [],
   "source": [
    "p = diabetes_data.hist(figsize=(20,20))"
   ]
  },
  {
   "cell_type": "code",
   "execution_count": null,
   "id": "6f872653",
   "metadata": {},
   "outputs": [],
   "source": [
    "diabetes_data.shape"
   ]
  },
  {
   "cell_type": "code",
   "execution_count": null,
   "id": "a6cfd0aa",
   "metadata": {},
   "outputs": [],
   "source": [
    "#data type analysis\n",
    "#plt.figure(figsize(5,5))\n",
    "#sns.set(font_scale=2)\n",
    "sns.countplot(y=diabetes_data.dtypes ,data=diabetes_data)\n",
    "plt.xlable(\"Count of each data type\")\n",
    "plt.ylabel(\"data types\")\n",
    "plt.show()"
   ]
  },
  {
   "cell_type": "code",
   "execution_count": null,
   "id": "686f7a94",
   "metadata": {},
   "outputs": [],
   "source": [
    "pip install missingno"
   ]
  },
  {
   "cell_type": "code",
   "execution_count": null,
   "id": "f22d028d",
   "metadata": {},
   "outputs": [],
   "source": [
    "#null count analysis\n",
    "impoer missingno as msno\n",
    "p=msno.bar(diabetes_data)"
   ]
  },
  {
   "cell_type": "code",
   "execution_count": null,
   "id": "e87d26f9",
   "metadata": {},
   "outputs": [],
   "source": [
    "#checking the balance of the data \n",
    "\n",
    "color_wheel={1:\"#0392cf\",\n",
    "             2:\"#7bc043\"}\n",
    "colors=daibetes_data[\"Outcome\"].map(lambda x: color_wheel.get(x + 1))\n",
    "print(diabetes_data.Outcome.value_counts())\n",
    "p=diabetes_data.Outcome.value_counts().plot(kind=\"bar\")"
   ]
  },
  {
   "cell_type": "code",
   "execution_count": null,
   "id": "9fe3ec3d",
   "metadata": {},
   "outputs": [],
   "source": [
    "from pandas.plotting import scatter_matrix\n",
    "p=scatter_matrix(diabetes_data,figsize=25,25)"
   ]
  },
  {
   "cell_type": "code",
   "execution_count": null,
   "id": "f761209a",
   "metadata": {},
   "outputs": [],
   "source": [
    "p=sns.pairplot(diabetes_data_copy,hue='Outcome')"
   ]
  }
 ],
 "metadata": {
  "kernelspec": {
   "display_name": "Python 3 (ipykernel)",
   "language": "python",
   "name": "python3"
  },
  "language_info": {
   "codemirror_mode": {
    "name": "ipython",
    "version": 3
   },
   "file_extension": ".py",
   "mimetype": "text/x-python",
   "name": "python",
   "nbconvert_exporter": "python",
   "pygments_lexer": "ipython3",
   "version": "3.9.9"
  }
 },
 "nbformat": 4,
 "nbformat_minor": 5
}
